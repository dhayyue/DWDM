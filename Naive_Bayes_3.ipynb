{
  "cells": [
    {
      "cell_type": "markdown",
      "metadata": {
        "id": "view-in-github",
        "colab_type": "text"
      },
      "source": [
        "<a href=\"https://colab.research.google.com/github/dhayyue/DWDM/blob/main/Naive_Bayes_3.ipynb\" target=\"_parent\"><img src=\"https://colab.research.google.com/assets/colab-badge.svg\" alt=\"Open In Colab\"/></a>"
      ]
    },
    {
      "cell_type": "code",
      "execution_count": null,
      "id": "9ceb8fbe-8c5f-4a0e-9d25-39175c2ff6aa",
      "metadata": {
        "id": "9ceb8fbe-8c5f-4a0e-9d25-39175c2ff6aa"
      },
      "outputs": [],
      "source": [
        "import numpy as numpy\n",
        "import pandas as pd\n",
        "import matplotlib.pyplot as plt\n",
        "import seaborn as sns\n",
        "\n",
        "from sklearn.naive_bayes import GaussianNB\n",
        "from sklearn.metrics import classification_report, confusion_matrix, accuracy_score, precision_score, recall_score, f1_score"
      ]
    },
    {
      "cell_type": "code",
      "execution_count": null,
      "id": "1155da30-a407-4b07-afbf-8191b48ddb47",
      "metadata": {
        "id": "1155da30-a407-4b07-afbf-8191b48ddb47",
        "outputId": "6fa87629-31d8-4116-f3e0-ffe2cbd2912e"
      },
      "outputs": [
        {
          "data": {
            "text/html": [
              "<div>\n",
              "<style scoped>\n",
              "    .dataframe tbody tr th:only-of-type {\n",
              "        vertical-align: middle;\n",
              "    }\n",
              "\n",
              "    .dataframe tbody tr th {\n",
              "        vertical-align: top;\n",
              "    }\n",
              "\n",
              "    .dataframe thead th {\n",
              "        text-align: right;\n",
              "    }\n",
              "</style>\n",
              "<table border=\"1\" class=\"dataframe\">\n",
              "  <thead>\n",
              "    <tr style=\"text-align: right;\">\n",
              "      <th></th>\n",
              "      <th>Invoice</th>\n",
              "      <th>StockCode</th>\n",
              "      <th>Description</th>\n",
              "      <th>Quantity</th>\n",
              "      <th>InvoiceDate</th>\n",
              "      <th>Price</th>\n",
              "      <th>Customer ID</th>\n",
              "      <th>Country</th>\n",
              "    </tr>\n",
              "  </thead>\n",
              "  <tbody>\n",
              "    <tr>\n",
              "      <th>0</th>\n",
              "      <td>536365</td>\n",
              "      <td>85123A</td>\n",
              "      <td>WHITE HANGING HEART T-LIGHT HOLDER</td>\n",
              "      <td>6</td>\n",
              "      <td>01/12/10 08:26</td>\n",
              "      <td>2.55</td>\n",
              "      <td>17850.0</td>\n",
              "      <td>United Kingdom</td>\n",
              "    </tr>\n",
              "    <tr>\n",
              "      <th>1</th>\n",
              "      <td>536365</td>\n",
              "      <td>71053</td>\n",
              "      <td>WHITE METAL LANTERN</td>\n",
              "      <td>6</td>\n",
              "      <td>01/12/10 08:26</td>\n",
              "      <td>3.39</td>\n",
              "      <td>17850.0</td>\n",
              "      <td>United Kingdom</td>\n",
              "    </tr>\n",
              "    <tr>\n",
              "      <th>2</th>\n",
              "      <td>536365</td>\n",
              "      <td>84406B</td>\n",
              "      <td>CREAM CUPID HEARTS COAT HANGER</td>\n",
              "      <td>8</td>\n",
              "      <td>01/12/10 08:26</td>\n",
              "      <td>2.75</td>\n",
              "      <td>17850.0</td>\n",
              "      <td>United Kingdom</td>\n",
              "    </tr>\n",
              "    <tr>\n",
              "      <th>3</th>\n",
              "      <td>536365</td>\n",
              "      <td>84029G</td>\n",
              "      <td>KNITTED UNION FLAG HOT WATER BOTTLE</td>\n",
              "      <td>6</td>\n",
              "      <td>01/12/10 08:26</td>\n",
              "      <td>3.39</td>\n",
              "      <td>17850.0</td>\n",
              "      <td>United Kingdom</td>\n",
              "    </tr>\n",
              "    <tr>\n",
              "      <th>4</th>\n",
              "      <td>536365</td>\n",
              "      <td>84029E</td>\n",
              "      <td>RED WOOLLY HOTTIE WHITE HEART.</td>\n",
              "      <td>6</td>\n",
              "      <td>01/12/10 08:26</td>\n",
              "      <td>3.39</td>\n",
              "      <td>17850.0</td>\n",
              "      <td>United Kingdom</td>\n",
              "    </tr>\n",
              "  </tbody>\n",
              "</table>\n",
              "</div>"
            ],
            "text/plain": [
              "  Invoice StockCode                          Description  Quantity  \\\n",
              "0  536365    85123A   WHITE HANGING HEART T-LIGHT HOLDER         6   \n",
              "1  536365     71053                  WHITE METAL LANTERN         6   \n",
              "2  536365    84406B       CREAM CUPID HEARTS COAT HANGER         8   \n",
              "3  536365    84029G  KNITTED UNION FLAG HOT WATER BOTTLE         6   \n",
              "4  536365    84029E       RED WOOLLY HOTTIE WHITE HEART.         6   \n",
              "\n",
              "      InvoiceDate  Price  Customer ID         Country  \n",
              "0  01/12/10 08:26   2.55      17850.0  United Kingdom  \n",
              "1  01/12/10 08:26   3.39      17850.0  United Kingdom  \n",
              "2  01/12/10 08:26   2.75      17850.0  United Kingdom  \n",
              "3  01/12/10 08:26   3.39      17850.0  United Kingdom  \n",
              "4  01/12/10 08:26   3.39      17850.0  United Kingdom  "
            ]
          },
          "execution_count": 4,
          "metadata": {},
          "output_type": "execute_result"
        }
      ],
      "source": [
        "train_data = pd.read_csv(\"supermarket_data.csv\")\n",
        "train_data.head()"
      ]
    },
    {
      "cell_type": "code",
      "execution_count": null,
      "id": "e70594bd-975a-4227-88a8-fef66acc0e44",
      "metadata": {
        "id": "e70594bd-975a-4227-88a8-fef66acc0e44",
        "outputId": "54d4ef6a-70ad-4687-d3e4-112be581b501"
      },
      "outputs": [
        {
          "name": "stdout",
          "output_type": "stream",
          "text": [
            "<class 'pandas.core.frame.DataFrame'>\n",
            "RangeIndex: 541910 entries, 0 to 541909\n",
            "Data columns (total 8 columns):\n",
            " #   Column       Non-Null Count   Dtype  \n",
            "---  ------       --------------   -----  \n",
            " 0   Invoice      541910 non-null  object \n",
            " 1   StockCode    541910 non-null  object \n",
            " 2   Description  540456 non-null  object \n",
            " 3   Quantity     541910 non-null  int64  \n",
            " 4   InvoiceDate  541910 non-null  object \n",
            " 5   Price        541910 non-null  float64\n",
            " 6   Customer ID  406830 non-null  float64\n",
            " 7   Country      541910 non-null  object \n",
            "dtypes: float64(2), int64(1), object(5)\n",
            "memory usage: 33.1+ MB\n"
          ]
        }
      ],
      "source": [
        "train_data.info()"
      ]
    },
    {
      "cell_type": "code",
      "execution_count": null,
      "id": "fa10aa7b-84d7-42dd-9322-f64bfcb86303",
      "metadata": {
        "id": "fa10aa7b-84d7-42dd-9322-f64bfcb86303",
        "outputId": "72859447-9044-4c53-e800-4552434644d9"
      },
      "outputs": [
        {
          "name": "stdout",
          "output_type": "stream",
          "text": [
            "Jumlah data train: 541910\n"
          ]
        }
      ],
      "source": [
        "print(\"Jumlah data train:\", len(train_data))"
      ]
    },
    {
      "cell_type": "code",
      "execution_count": null,
      "id": "6711ea1f-e429-41e6-be3d-67087f01f4a4",
      "metadata": {
        "id": "6711ea1f-e429-41e6-be3d-67087f01f4a4",
        "outputId": "b097fe6c-13bb-4acb-b4e4-85e1a78b12dc"
      },
      "outputs": [
        {
          "data": {
            "text/plain": [
              "Invoice                                    536365\n",
              "StockCode                                  85123A\n",
              "Description    WHITE HANGING HEART T-LIGHT HOLDER\n",
              "Quantity                                        6\n",
              "InvoiceDate                        01/12/10 08:26\n",
              "Price                                        2.55\n",
              "Customer ID                               17850.0\n",
              "Country                            United Kingdom\n",
              "Name: 0, dtype: object"
            ]
          },
          "execution_count": 16,
          "metadata": {},
          "output_type": "execute_result"
        }
      ],
      "source": [
        "train_data.iloc[0]"
      ]
    },
    {
      "cell_type": "code",
      "execution_count": null,
      "id": "9cd694fe-169c-4075-b6de-99add1a489bd",
      "metadata": {
        "id": "9cd694fe-169c-4075-b6de-99add1a489bd"
      },
      "outputs": [],
      "source": []
    }
  ],
  "metadata": {
    "kernelspec": {
      "display_name": "Python 3 (ipykernel)",
      "language": "python",
      "name": "python3"
    },
    "language_info": {
      "codemirror_mode": {
        "name": "ipython",
        "version": 3
      },
      "file_extension": ".py",
      "mimetype": "text/x-python",
      "name": "python",
      "nbconvert_exporter": "python",
      "pygments_lexer": "ipython3",
      "version": "3.12.4"
    },
    "colab": {
      "provenance": [],
      "include_colab_link": true
    }
  },
  "nbformat": 4,
  "nbformat_minor": 5
}